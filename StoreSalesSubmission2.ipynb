{
 "cells": [
  {
   "cell_type": "code",
   "execution_count": 1,
   "id": "baca70f1",
   "metadata": {
    "execution": {
     "iopub.execute_input": "2023-12-03T21:32:13.968142Z",
     "iopub.status.busy": "2023-12-03T21:32:13.967702Z",
     "iopub.status.idle": "2023-12-03T21:40:06.532176Z",
     "shell.execute_reply": "2023-12-03T21:40:06.531382Z"
    },
    "papermill": {
     "duration": 472.570667,
     "end_time": "2023-12-03T21:40:06.534568",
     "exception": false,
     "start_time": "2023-12-03T21:32:13.963901",
     "status": "completed"
    },
    "tags": []
   },
   "outputs": [
    {
     "name": "stderr",
     "output_type": "stream",
     "text": [
      "/opt/conda/lib/python3.10/site-packages/scipy/__init__.py:146: UserWarning: A NumPy version >=1.16.5 and <1.23.0 is required for this version of SciPy (detected version 1.24.3\n",
      "  warnings.warn(f\"A NumPy version >={np_minversion} and <{np_maxversion}\"\n",
      "/opt/conda/lib/python3.10/site-packages/sklearn/utils/validation.py:767: FutureWarning: is_sparse is deprecated and will be removed in a future version. Check `isinstance(dtype, pd.SparseDtype)` instead.\n",
      "  if not hasattr(array, \"sparse\") and array.dtypes.apply(is_sparse).any():\n",
      "/opt/conda/lib/python3.10/site-packages/sklearn/utils/validation.py:605: FutureWarning: is_sparse is deprecated and will be removed in a future version. Check `isinstance(dtype, pd.SparseDtype)` instead.\n",
      "  if is_sparse(pd_dtype):\n",
      "/opt/conda/lib/python3.10/site-packages/sklearn/utils/validation.py:614: FutureWarning: is_sparse is deprecated and will be removed in a future version. Check `isinstance(dtype, pd.SparseDtype)` instead.\n",
      "  if is_sparse(pd_dtype) or not is_extension_array_dtype(pd_dtype):\n",
      "/opt/conda/lib/python3.10/site-packages/sklearn/utils/validation.py:767: FutureWarning: is_sparse is deprecated and will be removed in a future version. Check `isinstance(dtype, pd.SparseDtype)` instead.\n",
      "  if not hasattr(array, \"sparse\") and array.dtypes.apply(is_sparse).any():\n",
      "/opt/conda/lib/python3.10/site-packages/sklearn/utils/validation.py:605: FutureWarning: is_sparse is deprecated and will be removed in a future version. Check `isinstance(dtype, pd.SparseDtype)` instead.\n",
      "  if is_sparse(pd_dtype):\n",
      "/opt/conda/lib/python3.10/site-packages/sklearn/utils/validation.py:614: FutureWarning: is_sparse is deprecated and will be removed in a future version. Check `isinstance(dtype, pd.SparseDtype)` instead.\n",
      "  if is_sparse(pd_dtype) or not is_extension_array_dtype(pd_dtype):\n",
      "/opt/conda/lib/python3.10/site-packages/sklearn/utils/validation.py:767: FutureWarning: is_sparse is deprecated and will be removed in a future version. Check `isinstance(dtype, pd.SparseDtype)` instead.\n",
      "  if not hasattr(array, \"sparse\") and array.dtypes.apply(is_sparse).any():\n",
      "/opt/conda/lib/python3.10/site-packages/sklearn/utils/validation.py:605: FutureWarning: is_sparse is deprecated and will be removed in a future version. Check `isinstance(dtype, pd.SparseDtype)` instead.\n",
      "  if is_sparse(pd_dtype):\n",
      "/opt/conda/lib/python3.10/site-packages/sklearn/utils/validation.py:614: FutureWarning: is_sparse is deprecated and will be removed in a future version. Check `isinstance(dtype, pd.SparseDtype)` instead.\n",
      "  if is_sparse(pd_dtype) or not is_extension_array_dtype(pd_dtype):\n",
      "/opt/conda/lib/python3.10/site-packages/xgboost/core.py:160: UserWarning: [21:32:24] WARNING: /workspace/src/learner.cc:742: \n",
      "Parameters: { \"predictor\" } are not used.\n",
      "\n",
      "  warnings.warn(smsg, UserWarning)\n",
      "/opt/conda/lib/python3.10/site-packages/xgboost/core.py:160: UserWarning: [21:40:01] WARNING: /workspace/src/common/error_msg.cc:58: Falling back to prediction using DMatrix due to mismatched devices. This might lead to higher memory usage and slower performance. XGBoost is running on: cuda:0, while the input data is on: cpu.\n",
      "Potential solutions:\n",
      "- Use a data structure that matches the device ordinal in the booster.\n",
      "- Set the device for booster before call to inplace_predict.\n",
      "\n",
      "This warning will only be shown once.\n",
      "\n",
      "  warnings.warn(smsg, UserWarning)\n"
     ]
    }
   ],
   "source": [
    "import pandas as pd\n",
    "import numpy as np\n",
    "import matplotlib.pyplot as plt\n",
    "import seaborn as sns\n",
    "from sklearn.linear_model import LinearRegression\n",
    "from sklearn.metrics import mean_squared_error\n",
    "from statsmodels.tsa.deterministic import DeterministicProcess\n",
    "from xgboost import XGBRegressor\n",
    "\n",
    "\n",
    "\n",
    "store_sales = pd.read_csv(\n",
    "    '/kaggle/input/store-sales-time-series-forecasting/train.csv',\n",
    "    usecols=['store_nbr', 'family', 'date', 'sales','onpromotion'],\n",
    "    parse_dates=['date']\n",
    ")\n",
    "store_sales['date'] = store_sales.date.dt.to_period('D')\n",
    "store_sales = store_sales.set_index(['store_nbr', 'family', 'date']).sort_index()\n",
    "\n",
    "def tsf(df):\n",
    "    df=df.copy()\n",
    "    df['day'] = df.index.day\n",
    "    df['month'] = df.index.month\n",
    "    df['dow'] = df.index.dayofweek\n",
    "    df['quarter'] = df.index.quarter\n",
    "    df['doy'] = df.index.dayofyear\n",
    "    return(df)\n",
    "\n",
    "y = store_sales.unstack(['store_nbr', 'family']).loc[\"2014-01-01\":\"2017-08-15\"]\n",
    "y1 = y.drop('onpromotion',axis=1)\n",
    "\n",
    "dp = DeterministicProcess(\n",
    "     index=y1.index,  \n",
    "     constant=True,  \n",
    "     order=2,        \n",
    "     drop=True\n",
    ")\n",
    "X1 = dp.in_sample()\n",
    "\n",
    "model = LinearRegression(fit_intercept=False)\n",
    "model.fit(X1, y1)\n",
    "y_fit = pd.DataFrame(model.predict(X1), index=X1.index, columns=y1.columns)\n",
    "\n",
    "\n",
    "#STORE_NBR = 3  # 1 - 54\n",
    "#FAMILY = 'PRODUCE'\n",
    "# Uncomment to see a list of product families\n",
    "# display(store_sales.index.get_level_values('family').unique())\n",
    "\n",
    "#ax = y1['sales', STORE_NBR, FAMILY].plot()\n",
    "#ax = y_fit['sales', STORE_NBR, FAMILY].plot()\n",
    "#ax.set_title(f'{FAMILY} Sales at Store {STORE_NBR}');\n",
    "\n",
    "y_resid = y1 - y_fit.squeeze()\n",
    "\n",
    "X2 = y.drop('sales',axis=1)\n",
    "\n",
    "X2 = tsf(X2)\n",
    "\n",
    "#!nvidia-smi\n",
    "#View GPU characteristics\n",
    "\n",
    "xgb = XGBRegressor(random_state=35643419,tree_method='hist',device='cuda')\n",
    "#To fix mismatch between data location\n",
    "xgb.set_params(predictor='gpu_predictor')\n",
    "xgb.fit(X2, y_resid)\n",
    "\n",
    "y_fit_boosted = xgb.predict(X2) + y_fit.squeeze()\n",
    "\n",
    "#STORE_NBR = 2  # 1 - 54\n",
    "#FAMILY = 'PRODUCE'\n",
    "# Uncomment to see a list of product families\n",
    "# display(store_sales.index.get_level_values('family').unique())\n",
    "\n",
    "#ax = y1['sales', STORE_NBR, FAMILY].plot(color=\"blue\")\n",
    "#ax = y_fit_boosted['sales', STORE_NBR, FAMILY].plot(color=\"orange\")\n",
    "#ax.set_title(f'{FAMILY} Sales at Store {STORE_NBR}');"
   ]
  },
  {
   "cell_type": "code",
   "execution_count": 2,
   "id": "939539a6",
   "metadata": {
    "execution": {
     "iopub.execute_input": "2023-12-03T21:40:06.540509Z",
     "iopub.status.busy": "2023-12-03T21:40:06.540222Z",
     "iopub.status.idle": "2023-12-03T21:40:10.029397Z",
     "shell.execute_reply": "2023-12-03T21:40:10.028517Z"
    },
    "papermill": {
     "duration": 3.494586,
     "end_time": "2023-12-03T21:40:10.031677",
     "exception": false,
     "start_time": "2023-12-03T21:40:06.537091",
     "status": "completed"
    },
    "tags": []
   },
   "outputs": [
    {
     "name": "stderr",
     "output_type": "stream",
     "text": [
      "/opt/conda/lib/python3.10/site-packages/sklearn/utils/validation.py:767: FutureWarning: is_sparse is deprecated and will be removed in a future version. Check `isinstance(dtype, pd.SparseDtype)` instead.\n",
      "  if not hasattr(array, \"sparse\") and array.dtypes.apply(is_sparse).any():\n",
      "/opt/conda/lib/python3.10/site-packages/sklearn/utils/validation.py:605: FutureWarning: is_sparse is deprecated and will be removed in a future version. Check `isinstance(dtype, pd.SparseDtype)` instead.\n",
      "  if is_sparse(pd_dtype):\n",
      "/opt/conda/lib/python3.10/site-packages/sklearn/utils/validation.py:614: FutureWarning: is_sparse is deprecated and will be removed in a future version. Check `isinstance(dtype, pd.SparseDtype)` instead.\n",
      "  if is_sparse(pd_dtype) or not is_extension_array_dtype(pd_dtype):\n"
     ]
    }
   ],
   "source": [
    "df_test = pd.read_csv(\n",
    "    '/kaggle/input/store-sales-time-series-forecasting/test.csv',\n",
    "    parse_dates=['date']\n",
    ")\n",
    "df_test['date'] = df_test.date.dt.to_period('D')\n",
    "df_test = df_test.set_index(['store_nbr', 'family', 'date']).sort_index()\n",
    "\n",
    "X1_test = dp.out_of_sample(steps=16)\n",
    "X1_test.index.name = 'date'\n",
    "\n",
    "y_pred = pd.DataFrame(\n",
    "    model.predict(X1_test),\n",
    "    index=X1_test.index,\n",
    "    columns=y1.columns\n",
    ")\n",
    "\n",
    "y_test = df_test.unstack(['store_nbr', 'family'])\n",
    "y_test = y_test.drop('id',axis=1)\n",
    "\n",
    "X2_test = tsf(y_test)\n",
    "\n",
    "y_pred_boosted = xgb.predict(X2_test) + y_pred.squeeze()\n",
    "\n",
    "#STORE_NBR = 5  # 1 - 54\n",
    "#FAMILY = 'PRODUCE'\n",
    "# Uncomment to see a list of product families\n",
    "# display(store_sales.index.get_level_values('family').unique())\n",
    "\n",
    "#ax = y_pred_boosted['sales', STORE_NBR, FAMILY].plot()\n",
    "#ax.set_title(f'{FAMILY} Sales at Store {STORE_NBR}');"
   ]
  },
  {
   "cell_type": "code",
   "execution_count": 3,
   "id": "56197c3c",
   "metadata": {
    "execution": {
     "iopub.execute_input": "2023-12-03T21:40:10.038061Z",
     "iopub.status.busy": "2023-12-03T21:40:10.037752Z",
     "iopub.status.idle": "2023-12-03T21:40:10.176658Z",
     "shell.execute_reply": "2023-12-03T21:40:10.175745Z"
    },
    "papermill": {
     "duration": 0.144694,
     "end_time": "2023-12-03T21:40:10.179067",
     "exception": false,
     "start_time": "2023-12-03T21:40:10.034373",
     "status": "completed"
    },
    "tags": []
   },
   "outputs": [],
   "source": [
    "y_submit = pd.DataFrame(y_pred_boosted).stack(['store_nbr','family'])\n",
    "\n",
    "y_submit = y_submit.join(df_test.id).reindex(columns=['id','sales'])\n",
    "\n",
    "y_submit.to_csv('submission1.csv', index=False)"
   ]
  }
 ],
 "metadata": {
  "kaggle": {
   "accelerator": "gpu",
   "dataSources": [
    {
     "databundleVersionId": 2887556,
     "sourceId": 29781,
     "sourceType": "competition"
    }
   ],
   "dockerImageVersionId": 30587,
   "isGpuEnabled": true,
   "isInternetEnabled": true,
   "language": "python",
   "sourceType": "notebook"
  },
  "kernelspec": {
   "display_name": "Python 3",
   "language": "python",
   "name": "python3"
  },
  "language_info": {
   "codemirror_mode": {
    "name": "ipython",
    "version": 3
   },
   "file_extension": ".py",
   "mimetype": "text/x-python",
   "name": "python",
   "nbconvert_exporter": "python",
   "pygments_lexer": "ipython3",
   "version": "3.10.12"
  },
  "papermill": {
   "default_parameters": {},
   "duration": 480.284235,
   "end_time": "2023-12-03T21:40:10.901131",
   "environment_variables": {},
   "exception": null,
   "input_path": "__notebook__.ipynb",
   "output_path": "__notebook__.ipynb",
   "parameters": {},
   "start_time": "2023-12-03T21:32:10.616896",
   "version": "2.4.0"
  }
 },
 "nbformat": 4,
 "nbformat_minor": 5
}
