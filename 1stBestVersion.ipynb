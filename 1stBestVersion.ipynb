{
 "cells": [
  {
   "cell_type": "markdown",
   "id": "5edf4802",
   "metadata": {
    "papermill": {
     "duration": 0.008045,
     "end_time": "2023-12-12T21:19:27.907236",
     "exception": false,
     "start_time": "2023-12-12T21:19:27.899191",
     "status": "completed"
    },
    "tags": []
   },
   "source": [
    "# Intro\n",
    "Basically this environment is to essay different things from preprocessing to everything else. "
   ]
  },
  {
   "cell_type": "code",
   "execution_count": 1,
   "id": "e4c69f1e",
   "metadata": {
    "execution": {
     "iopub.execute_input": "2023-12-12T21:19:27.923228Z",
     "iopub.status.busy": "2023-12-12T21:19:27.922946Z",
     "iopub.status.idle": "2023-12-12T21:19:37.708186Z",
     "shell.execute_reply": "2023-12-12T21:19:37.707185Z"
    },
    "papermill": {
     "duration": 9.795806,
     "end_time": "2023-12-12T21:19:37.710531",
     "exception": false,
     "start_time": "2023-12-12T21:19:27.914725",
     "status": "completed"
    },
    "tags": []
   },
   "outputs": [
    {
     "name": "stderr",
     "output_type": "stream",
     "text": [
      "/opt/conda/lib/python3.10/site-packages/scipy/__init__.py:146: UserWarning: A NumPy version >=1.16.5 and <1.23.0 is required for this version of SciPy (detected version 1.23.5\n",
      "  warnings.warn(f\"A NumPy version >={np_minversion} and <{np_maxversion}\"\n"
     ]
    }
   ],
   "source": [
    "import pandas as pd \n",
    "import seaborn as sns\n",
    "import matplotlib.pyplot as plt\n",
    "import os\n",
    "import numpy as np\n",
    "import tensorflow as tf\n",
    "from sklearn.model_selection import train_test_split\n",
    "from tensorflow.keras.layers.experimental import preprocessing\n",
    "from tensorflow import keras\n",
    "from tensorflow.keras import layers\n",
    "from tensorflow.keras.preprocessing.image import ImageDataGenerator\n",
    "\n",
    "def set_seed(seed=35643419):\n",
    "    np.random.seed(seed)\n",
    "    tf.random.set_seed(seed)\n",
    "    os.environ['PYTHONHASHSEED'] = str(seed)\n",
    "    os.environ['TF_DETERMINISTIC_OPS'] = '1'\n",
    "set_seed(35643419)"
   ]
  },
  {
   "cell_type": "code",
   "execution_count": 2,
   "id": "917f1a92",
   "metadata": {
    "execution": {
     "iopub.execute_input": "2023-12-12T21:19:37.728653Z",
     "iopub.status.busy": "2023-12-12T21:19:37.728116Z",
     "iopub.status.idle": "2023-12-12T21:19:43.213884Z",
     "shell.execute_reply": "2023-12-12T21:19:43.213074Z"
    },
    "papermill": {
     "duration": 5.496866,
     "end_time": "2023-12-12T21:19:43.216240",
     "exception": false,
     "start_time": "2023-12-12T21:19:37.719374",
     "status": "completed"
    },
    "tags": []
   },
   "outputs": [],
   "source": [
    "train = pd.read_csv('/kaggle/input/digit-recognizer/train.csv')\n",
    "test = pd.read_csv('/kaggle/input/digit-recognizer/test.csv')"
   ]
  },
  {
   "cell_type": "code",
   "execution_count": 3,
   "id": "7a6219eb",
   "metadata": {
    "execution": {
     "iopub.execute_input": "2023-12-12T21:19:43.233373Z",
     "iopub.status.busy": "2023-12-12T21:19:43.233096Z",
     "iopub.status.idle": "2023-12-12T21:19:43.237215Z",
     "shell.execute_reply": "2023-12-12T21:19:43.236304Z"
    },
    "papermill": {
     "duration": 0.014997,
     "end_time": "2023-12-12T21:19:43.239223",
     "exception": false,
     "start_time": "2023-12-12T21:19:43.224226",
     "status": "completed"
    },
    "tags": []
   },
   "outputs": [],
   "source": [
    "#train.head()"
   ]
  },
  {
   "cell_type": "code",
   "execution_count": 4,
   "id": "cca626c4",
   "metadata": {
    "execution": {
     "iopub.execute_input": "2023-12-12T21:19:43.255267Z",
     "iopub.status.busy": "2023-12-12T21:19:43.254969Z",
     "iopub.status.idle": "2023-12-12T21:19:43.258633Z",
     "shell.execute_reply": "2023-12-12T21:19:43.257772Z"
    },
    "papermill": {
     "duration": 0.01375,
     "end_time": "2023-12-12T21:19:43.260468",
     "exception": false,
     "start_time": "2023-12-12T21:19:43.246718",
     "status": "completed"
    },
    "tags": []
   },
   "outputs": [],
   "source": [
    "#We have more or less the same distribution of numbers\n",
    "#sns.histplot(train.label)"
   ]
  },
  {
   "cell_type": "code",
   "execution_count": 5,
   "id": "7547dbb9",
   "metadata": {
    "execution": {
     "iopub.execute_input": "2023-12-12T21:19:43.276435Z",
     "iopub.status.busy": "2023-12-12T21:19:43.276183Z",
     "iopub.status.idle": "2023-12-12T21:19:43.364744Z",
     "shell.execute_reply": "2023-12-12T21:19:43.363777Z"
    },
    "papermill": {
     "duration": 0.098779,
     "end_time": "2023-12-12T21:19:43.366706",
     "exception": false,
     "start_time": "2023-12-12T21:19:43.267927",
     "status": "completed"
    },
    "tags": []
   },
   "outputs": [],
   "source": [
    "labels = train['label']\n",
    "pixels = train.drop('label', axis=1)\n",
    "\n",
    "images = pixels.values.reshape(-1, 28, 28)\n",
    "\n",
    "#for i in [0,1,2,3,4]:\n",
    " #   plt.imshow(images[i], cmap='gray')\n",
    "  #  plt.title(f\"Label: {labels[i]}\")\n",
    "   # plt.show()"
   ]
  },
  {
   "cell_type": "code",
   "execution_count": 6,
   "id": "761b30fb",
   "metadata": {
    "execution": {
     "iopub.execute_input": "2023-12-12T21:19:43.383430Z",
     "iopub.status.busy": "2023-12-12T21:19:43.383149Z",
     "iopub.status.idle": "2023-12-12T21:19:43.389635Z",
     "shell.execute_reply": "2023-12-12T21:19:43.388811Z"
    },
    "papermill": {
     "duration": 0.016997,
     "end_time": "2023-12-12T21:19:43.391550",
     "exception": false,
     "start_time": "2023-12-12T21:19:43.374553",
     "status": "completed"
    },
    "tags": []
   },
   "outputs": [
    {
     "data": {
      "text/plain": [
       "'\\ndatagen = ImageDataGenerator(\\n    shear_range=0.2,\\n    zoom_range=0.2,\\n    vertical_flip=True,\\n)\\n'"
      ]
     },
     "execution_count": 6,
     "metadata": {},
     "output_type": "execute_result"
    }
   ],
   "source": [
    "'''\n",
    "datagen = ImageDataGenerator(\n",
    "    shear_range=0.2,\n",
    "    zoom_range=0.2,\n",
    "    vertical_flip=True,\n",
    ")\n",
    "'''"
   ]
  },
  {
   "cell_type": "code",
   "execution_count": 7,
   "id": "546aff7a",
   "metadata": {
    "execution": {
     "iopub.execute_input": "2023-12-12T21:19:43.408245Z",
     "iopub.status.busy": "2023-12-12T21:19:43.407573Z",
     "iopub.status.idle": "2023-12-12T21:19:43.636886Z",
     "shell.execute_reply": "2023-12-12T21:19:43.636088Z"
    },
    "papermill": {
     "duration": 0.240217,
     "end_time": "2023-12-12T21:19:43.639383",
     "exception": false,
     "start_time": "2023-12-12T21:19:43.399166",
     "status": "completed"
    },
    "tags": []
   },
   "outputs": [],
   "source": [
    "pixels_train, pixels_valid, labels_train, labels_valid = train_test_split(\n",
    "    pixels,  \n",
    "    labels,  \n",
    "    test_size=0.3,\n",
    "    random_state=35643419 \n",
    ")"
   ]
  },
  {
   "cell_type": "code",
   "execution_count": 8,
   "id": "019e8ac5",
   "metadata": {
    "execution": {
     "iopub.execute_input": "2023-12-12T21:19:43.656698Z",
     "iopub.status.busy": "2023-12-12T21:19:43.656174Z",
     "iopub.status.idle": "2023-12-12T21:19:43.660634Z",
     "shell.execute_reply": "2023-12-12T21:19:43.659803Z"
    },
    "papermill": {
     "duration": 0.015018,
     "end_time": "2023-12-12T21:19:43.662437",
     "exception": false,
     "start_time": "2023-12-12T21:19:43.647419",
     "status": "completed"
    },
    "tags": []
   },
   "outputs": [],
   "source": [
    "images_train = pixels_train.values.reshape(-1, 28, 28)\n",
    "images_valid = pixels_valid.values.reshape(-1,28,28)"
   ]
  },
  {
   "cell_type": "code",
   "execution_count": 9,
   "id": "0dbcb329",
   "metadata": {
    "execution": {
     "iopub.execute_input": "2023-12-12T21:19:43.678776Z",
     "iopub.status.busy": "2023-12-12T21:19:43.678488Z",
     "iopub.status.idle": "2023-12-12T21:19:43.684032Z",
     "shell.execute_reply": "2023-12-12T21:19:43.683183Z"
    },
    "papermill": {
     "duration": 0.015759,
     "end_time": "2023-12-12T21:19:43.685870",
     "exception": false,
     "start_time": "2023-12-12T21:19:43.670111",
     "status": "completed"
    },
    "tags": []
   },
   "outputs": [],
   "source": [
    "labels_train_one_hot = tf.keras.utils.to_categorical(labels_train, num_classes=10)\n",
    "labels_valid_one_hot = tf.keras.utils.to_categorical(labels_valid, num_classes=10)"
   ]
  },
  {
   "cell_type": "code",
   "execution_count": 10,
   "id": "81abe690",
   "metadata": {
    "execution": {
     "iopub.execute_input": "2023-12-12T21:19:43.702234Z",
     "iopub.status.busy": "2023-12-12T21:19:43.701940Z",
     "iopub.status.idle": "2023-12-12T21:19:43.705885Z",
     "shell.execute_reply": "2023-12-12T21:19:43.705206Z"
    },
    "papermill": {
     "duration": 0.014097,
     "end_time": "2023-12-12T21:19:43.707741",
     "exception": false,
     "start_time": "2023-12-12T21:19:43.693644",
     "status": "completed"
    },
    "tags": []
   },
   "outputs": [],
   "source": [
    "images_train_with_channel = images_train[..., np.newaxis]\n",
    "images_valid_with_channel = images_valid[..., np.newaxis]"
   ]
  },
  {
   "cell_type": "code",
   "execution_count": 11,
   "id": "725be458",
   "metadata": {
    "execution": {
     "iopub.execute_input": "2023-12-12T21:19:43.723836Z",
     "iopub.status.busy": "2023-12-12T21:19:43.723578Z",
     "iopub.status.idle": "2023-12-12T21:19:43.729003Z",
     "shell.execute_reply": "2023-12-12T21:19:43.728215Z"
    },
    "papermill": {
     "duration": 0.015585,
     "end_time": "2023-12-12T21:19:43.730913",
     "exception": false,
     "start_time": "2023-12-12T21:19:43.715328",
     "status": "completed"
    },
    "tags": []
   },
   "outputs": [
    {
     "data": {
      "text/plain": [
       "'\\nimages_train_with_channel = datagen.flow(\\n    x=images_train_with_channel,\\n    y=labels_train_one_hot,\\n    batch_size=32,\\n    seed=35643419\\n)\\n\\nimages_valid_with_channel = datagen.flow(\\n    x=images_train_with_channel,\\n    y=labels_valid_one_hot,\\n    batch_size=32,\\n    seed=35643419\\n)\\n'"
      ]
     },
     "execution_count": 11,
     "metadata": {},
     "output_type": "execute_result"
    }
   ],
   "source": [
    "'''\n",
    "images_train_with_channel = datagen.flow(\n",
    "    x=images_train_with_channel,\n",
    "    y=labels_train_one_hot,\n",
    "    batch_size=32,\n",
    "    seed=35643419\n",
    ")\n",
    "\n",
    "images_valid_with_channel = datagen.flow(\n",
    "    x=images_train_with_channel,\n",
    "    y=labels_valid_one_hot,\n",
    "    batch_size=32,\n",
    "    seed=35643419\n",
    ")\n",
    "'''"
   ]
  },
  {
   "cell_type": "code",
   "execution_count": 12,
   "id": "9b4963d1",
   "metadata": {
    "execution": {
     "iopub.execute_input": "2023-12-12T21:19:43.748878Z",
     "iopub.status.busy": "2023-12-12T21:19:43.748616Z",
     "iopub.status.idle": "2023-12-12T21:19:43.752156Z",
     "shell.execute_reply": "2023-12-12T21:19:43.751337Z"
    },
    "papermill": {
     "duration": 0.014375,
     "end_time": "2023-12-12T21:19:43.754042",
     "exception": false,
     "start_time": "2023-12-12T21:19:43.739667",
     "status": "completed"
    },
    "tags": []
   },
   "outputs": [],
   "source": [
    "#pretrained_base = tf.keras.models.load_model(\n",
    " #   '../input/cv-course-models/cv-course-models/inceptionv3',\n",
    "#)\n",
    "#pretrained_base.trainable = False"
   ]
  },
  {
   "cell_type": "code",
   "execution_count": 13,
   "id": "eea7416c",
   "metadata": {
    "execution": {
     "iopub.execute_input": "2023-12-12T21:19:43.770822Z",
     "iopub.status.busy": "2023-12-12T21:19:43.770566Z",
     "iopub.status.idle": "2023-12-12T21:19:46.814994Z",
     "shell.execute_reply": "2023-12-12T21:19:46.814226Z"
    },
    "papermill": {
     "duration": 3.05525,
     "end_time": "2023-12-12T21:19:46.817315",
     "exception": false,
     "start_time": "2023-12-12T21:19:43.762065",
     "status": "completed"
    },
    "tags": []
   },
   "outputs": [],
   "source": [
    "model = keras.Sequential([\n",
    "    preprocessing.Rescaling(scale=1./255),\n",
    "    #Filter + detect : obtain 32 features, moving 1 pixel in the two dimensions, treating borders equally (same)\n",
    "    layers.Conv2D(filters=32,kernel_size=3,strides=1,padding='valid',activation='relu', input_shape=(28, 28, 1)),\n",
    "    #Condense features\n",
    "    layers.ReLU(),\n",
    "    layers.MaxPool2D(pool_size=2,strides=1,padding='valid'),\n",
    "\n",
    "    layers.Conv2D(filters=64,kernel_size=3,strides=1,padding='valid',activation='relu'),\n",
    "    layers.ReLU(),\n",
    "    layers.MaxPool2D(pool_size=2,strides=1,padding='valid'),\n",
    "    \n",
    "    layers.Conv2D(filters=128, kernel_size=3, strides=1, padding='valid', activation='relu'),\n",
    "    layers.MaxPool2D(pool_size=2, strides=1, padding='valid'),\n",
    "    \n",
    "    layers.Flatten(),\n",
    "    layers.Dense(10, activation='softmax'),\n",
    "])"
   ]
  },
  {
   "cell_type": "code",
   "execution_count": 14,
   "id": "ea339263",
   "metadata": {
    "execution": {
     "iopub.execute_input": "2023-12-12T21:19:46.834718Z",
     "iopub.status.busy": "2023-12-12T21:19:46.834138Z",
     "iopub.status.idle": "2023-12-12T21:19:46.856966Z",
     "shell.execute_reply": "2023-12-12T21:19:46.856278Z"
    },
    "papermill": {
     "duration": 0.033448,
     "end_time": "2023-12-12T21:19:46.858866",
     "exception": false,
     "start_time": "2023-12-12T21:19:46.825418",
     "status": "completed"
    },
    "tags": []
   },
   "outputs": [],
   "source": [
    "model.compile(\n",
    "    optimizer='rmsprop',\n",
    "    loss='categorical_crossentropy',\n",
    "    metrics=['accuracy'],\n",
    ")"
   ]
  },
  {
   "cell_type": "code",
   "execution_count": 15,
   "id": "aa55a119",
   "metadata": {
    "execution": {
     "iopub.execute_input": "2023-12-12T21:19:46.875887Z",
     "iopub.status.busy": "2023-12-12T21:19:46.875359Z",
     "iopub.status.idle": "2023-12-12T21:19:46.879487Z",
     "shell.execute_reply": "2023-12-12T21:19:46.878707Z"
    },
    "papermill": {
     "duration": 0.014562,
     "end_time": "2023-12-12T21:19:46.881268",
     "exception": false,
     "start_time": "2023-12-12T21:19:46.866706",
     "status": "completed"
    },
    "tags": []
   },
   "outputs": [],
   "source": [
    "early_stopping = keras.callbacks.EarlyStopping(\n",
    "    patience=5,\n",
    "    min_delta=0.001,\n",
    "    restore_best_weights=True,\n",
    ")"
   ]
  },
  {
   "cell_type": "code",
   "execution_count": 16,
   "id": "925895f9",
   "metadata": {
    "execution": {
     "iopub.execute_input": "2023-12-12T21:19:46.897633Z",
     "iopub.status.busy": "2023-12-12T21:19:46.897379Z",
     "iopub.status.idle": "2023-12-12T21:19:46.901838Z",
     "shell.execute_reply": "2023-12-12T21:19:46.901000Z"
    },
    "papermill": {
     "duration": 0.014762,
     "end_time": "2023-12-12T21:19:46.903690",
     "exception": false,
     "start_time": "2023-12-12T21:19:46.888928",
     "status": "completed"
    },
    "tags": []
   },
   "outputs": [],
   "source": [
    "model_checkpoint = keras.callbacks.ModelCheckpoint(\n",
    "    'best_model.h5',  # Save the best weights to this file\n",
    "    save_best_only=True,  # Only save the best weights based on the validation loss\n",
    "    monitor='val_loss',  # Monitor validation loss\n",
    "    mode='min',  # Mode can be 'min' or 'max' depending on the metric to minimize or maximize\n",
    "    verbose=1  # Display messages when saving the best weights\n",
    ")"
   ]
  },
  {
   "cell_type": "code",
   "execution_count": 17,
   "id": "8dc00abc",
   "metadata": {
    "execution": {
     "iopub.execute_input": "2023-12-12T21:19:46.920232Z",
     "iopub.status.busy": "2023-12-12T21:19:46.919940Z",
     "iopub.status.idle": "2023-12-12T21:20:43.111352Z",
     "shell.execute_reply": "2023-12-12T21:20:43.110076Z"
    },
    "papermill": {
     "duration": 56.202,
     "end_time": "2023-12-12T21:20:43.113438",
     "exception": false,
     "start_time": "2023-12-12T21:19:46.911438",
     "status": "completed"
    },
    "tags": []
   },
   "outputs": [
    {
     "name": "stdout",
     "output_type": "stream",
     "text": [
      "Epoch 1/20\n",
      "919/919 [==============================] - ETA: 0s - loss: 0.1445 - accuracy: 0.9553\n",
      "Epoch 1: val_loss improved from inf to 0.04972, saving model to best_model.h5\n",
      "919/919 [==============================] - 14s 6ms/step - loss: 0.1445 - accuracy: 0.9553 - val_loss: 0.0497 - val_accuracy: 0.9847\n",
      "Epoch 2/20\n",
      "911/919 [============================>.] - ETA: 0s - loss: 0.0539 - accuracy: 0.9842\n",
      "Epoch 2: val_loss improved from 0.04972 to 0.04714, saving model to best_model.h5\n",
      "919/919 [==============================] - 5s 6ms/step - loss: 0.0540 - accuracy: 0.9842 - val_loss: 0.0471 - val_accuracy: 0.9868\n",
      "Epoch 3/20\n",
      "918/919 [============================>.] - ETA: 0s - loss: 0.0394 - accuracy: 0.9887\n",
      "Epoch 3: val_loss did not improve from 0.04714\n",
      "919/919 [==============================] - 5s 6ms/step - loss: 0.0394 - accuracy: 0.9887 - val_loss: 0.0600 - val_accuracy: 0.9837\n",
      "Epoch 4/20\n",
      "912/919 [============================>.] - ETA: 0s - loss: 0.0320 - accuracy: 0.9912\n",
      "Epoch 4: val_loss improved from 0.04714 to 0.03744, saving model to best_model.h5\n",
      "919/919 [==============================] - 5s 6ms/step - loss: 0.0319 - accuracy: 0.9913 - val_loss: 0.0374 - val_accuracy: 0.9894\n",
      "Epoch 5/20\n",
      "914/919 [============================>.] - ETA: 0s - loss: 0.0265 - accuracy: 0.9922\n",
      "Epoch 5: val_loss did not improve from 0.03744\n",
      "919/919 [==============================] - 5s 6ms/step - loss: 0.0264 - accuracy: 0.9922 - val_loss: 0.0503 - val_accuracy: 0.9881\n",
      "Epoch 6/20\n",
      "916/919 [============================>.] - ETA: 0s - loss: 0.0215 - accuracy: 0.9940\n",
      "Epoch 6: val_loss did not improve from 0.03744\n",
      "919/919 [==============================] - 5s 6ms/step - loss: 0.0214 - accuracy: 0.9940 - val_loss: 0.0498 - val_accuracy: 0.9885\n",
      "Epoch 7/20\n",
      "916/919 [============================>.] - ETA: 0s - loss: 0.0185 - accuracy: 0.9945\n",
      "Epoch 7: val_loss did not improve from 0.03744\n",
      "919/919 [==============================] - 5s 6ms/step - loss: 0.0188 - accuracy: 0.9945 - val_loss: 0.0823 - val_accuracy: 0.9827\n",
      "Epoch 8/20\n",
      "913/919 [============================>.] - ETA: 0s - loss: 0.0142 - accuracy: 0.9964\n",
      "Epoch 8: val_loss did not improve from 0.03744\n",
      "919/919 [==============================] - 5s 6ms/step - loss: 0.0142 - accuracy: 0.9964 - val_loss: 0.0784 - val_accuracy: 0.9855\n",
      "Epoch 9/20\n",
      "911/919 [============================>.] - ETA: 0s - loss: 0.0139 - accuracy: 0.9970\n",
      "Epoch 9: val_loss did not improve from 0.03744\n",
      "919/919 [==============================] - 5s 6ms/step - loss: 0.0138 - accuracy: 0.9970 - val_loss: 0.0634 - val_accuracy: 0.9883\n"
     ]
    }
   ],
   "source": [
    "history = model.fit(\n",
    "    images_train_with_channel, \n",
    "    labels_train_one_hot,\n",
    "    validation_data=(images_valid_with_channel, labels_valid_one_hot),\n",
    "    epochs=20,\n",
    "    callbacks=[early_stopping,model_checkpoint],\n",
    ")"
   ]
  },
  {
   "cell_type": "code",
   "execution_count": 18,
   "id": "a5f981b7",
   "metadata": {
    "execution": {
     "iopub.execute_input": "2023-12-12T21:20:43.289097Z",
     "iopub.status.busy": "2023-12-12T21:20:43.288388Z",
     "iopub.status.idle": "2023-12-12T21:20:43.293185Z",
     "shell.execute_reply": "2023-12-12T21:20:43.292288Z"
    },
    "papermill": {
     "duration": 0.115132,
     "end_time": "2023-12-12T21:20:43.295033",
     "exception": false,
     "start_time": "2023-12-12T21:20:43.179901",
     "status": "completed"
    },
    "tags": []
   },
   "outputs": [],
   "source": [
    "history_frame = pd.DataFrame(history.history)"
   ]
  },
  {
   "cell_type": "code",
   "execution_count": 19,
   "id": "42838418",
   "metadata": {
    "execution": {
     "iopub.execute_input": "2023-12-12T21:20:43.425809Z",
     "iopub.status.busy": "2023-12-12T21:20:43.425555Z",
     "iopub.status.idle": "2023-12-12T21:20:43.926671Z",
     "shell.execute_reply": "2023-12-12T21:20:43.925796Z"
    },
    "papermill": {
     "duration": 0.568266,
     "end_time": "2023-12-12T21:20:43.928520",
     "exception": false,
     "start_time": "2023-12-12T21:20:43.360254",
     "status": "completed"
    },
    "tags": []
   },
   "outputs": [
    {
     "data": {
      "text/plain": [
       "<Axes: >"
      ]
     },
     "execution_count": 19,
     "metadata": {},
     "output_type": "execute_result"
    },
    {
     "data": {
      "image/png": "[encoded data removed]",
      "text/plain": [
       "<Figure size 640x480 with 1 Axes>"
      ]
     },
     "metadata": {},
     "output_type": "display_data"
    },
    {
     "data": {
      "image/png": "[encoded data removed]",
      "text/plain": [
       "<Figure size 640x480 with 1 Axes>"
      ]
     },
     "metadata": {},
     "output_type": "display_data"
    }
   ],
   "source": [
    "history_frame.loc[1:, ['loss', 'val_loss']].plot()\n",
    "history_frame.loc[1:, ['accuracy', 'val_accuracy']].plot()"
   ]
  },
  {
   "cell_type": "code",
   "execution_count": 20,
   "id": "c08cbbff",
   "metadata": {
    "execution": {
     "iopub.execute_input": "2023-12-12T21:20:44.063891Z",
     "iopub.status.busy": "2023-12-12T21:20:44.063604Z",
     "iopub.status.idle": "2023-12-12T21:20:44.178529Z",
     "shell.execute_reply": "2023-12-12T21:20:44.177801Z"
    },
    "papermill": {
     "duration": 0.1839,
     "end_time": "2023-12-12T21:20:44.180445",
     "exception": false,
     "start_time": "2023-12-12T21:20:43.996545",
     "status": "completed"
    },
    "tags": []
   },
   "outputs": [],
   "source": [
    "best_model = keras.models.load_model('best_model.h5')"
   ]
  },
  {
   "cell_type": "code",
   "execution_count": 21,
   "id": "121bd602",
   "metadata": {
    "execution": {
     "iopub.execute_input": "2023-12-12T21:20:44.314265Z",
     "iopub.status.busy": "2023-12-12T21:20:44.313944Z",
     "iopub.status.idle": "2023-12-12T21:20:46.012702Z",
     "shell.execute_reply": "2023-12-12T21:20:46.011747Z"
    },
    "papermill": {
     "duration": 1.767811,
     "end_time": "2023-12-12T21:20:46.014725",
     "exception": false,
     "start_time": "2023-12-12T21:20:44.246914",
     "status": "completed"
    },
    "tags": []
   },
   "outputs": [
    {
     "name": "stdout",
     "output_type": "stream",
     "text": [
      "394/394 [==============================] - 1s 3ms/step - loss: 0.0374 - accuracy: 0.9894\n",
      "valid_acc: 0.9894444346427917\n"
     ]
    }
   ],
   "source": [
    "valid_loss, valid_acc = best_model.evaluate(images_valid_with_channel, labels_valid_one_hot)\n",
    "print('valid_acc:', valid_acc)"
   ]
  },
  {
   "cell_type": "code",
   "execution_count": 22,
   "id": "bd05461e",
   "metadata": {
    "execution": {
     "iopub.execute_input": "2023-12-12T21:20:46.153545Z",
     "iopub.status.busy": "2023-12-12T21:20:46.153249Z",
     "iopub.status.idle": "2023-12-12T21:20:46.157673Z",
     "shell.execute_reply": "2023-12-12T21:20:46.156771Z"
    },
    "papermill": {
     "duration": 0.0757,
     "end_time": "2023-12-12T21:20:46.159606",
     "exception": false,
     "start_time": "2023-12-12T21:20:46.083906",
     "status": "completed"
    },
    "tags": []
   },
   "outputs": [],
   "source": [
    "images_test = test.values.reshape(-1, 28, 28)\n",
    "images_test_with_channel = images_test[..., np.newaxis]"
   ]
  },
  {
   "cell_type": "code",
   "execution_count": 23,
   "id": "6474152b",
   "metadata": {
    "execution": {
     "iopub.execute_input": "2023-12-12T21:20:46.296292Z",
     "iopub.status.busy": "2023-12-12T21:20:46.295969Z",
     "iopub.status.idle": "2023-12-12T21:20:48.962361Z",
     "shell.execute_reply": "2023-12-12T21:20:48.961462Z"
    },
    "papermill": {
     "duration": 2.737747,
     "end_time": "2023-12-12T21:20:48.965358",
     "exception": false,
     "start_time": "2023-12-12T21:20:46.227611",
     "status": "completed"
    },
    "tags": []
   },
   "outputs": [
    {
     "name": "stdout",
     "output_type": "stream",
     "text": [
      "875/875 [==============================] - 2s 2ms/step\n"
     ]
    }
   ],
   "source": [
    "pred = best_model.predict(images_test)"
   ]
  },
  {
   "cell_type": "code",
   "execution_count": 24,
   "id": "847c0a9c",
   "metadata": {
    "execution": {
     "iopub.execute_input": "2023-12-12T21:20:49.118201Z",
     "iopub.status.busy": "2023-12-12T21:20:49.117432Z",
     "iopub.status.idle": "2023-12-12T21:20:49.123714Z",
     "shell.execute_reply": "2023-12-12T21:20:49.122655Z"
    },
    "papermill": {
     "duration": 0.08287,
     "end_time": "2023-12-12T21:20:49.125671",
     "exception": false,
     "start_time": "2023-12-12T21:20:49.042801",
     "status": "completed"
    },
    "tags": []
   },
   "outputs": [],
   "source": [
    "predicted_classes = np.argmax(pred, axis=1)"
   ]
  },
  {
   "cell_type": "code",
   "execution_count": 25,
   "id": "199aaa77",
   "metadata": {
    "execution": {
     "iopub.execute_input": "2023-12-12T21:20:49.271857Z",
     "iopub.status.busy": "2023-12-12T21:20:49.271288Z",
     "iopub.status.idle": "2023-12-12T21:20:49.275738Z",
     "shell.execute_reply": "2023-12-12T21:20:49.274858Z"
    },
    "papermill": {
     "duration": 0.080684,
     "end_time": "2023-12-12T21:20:49.277744",
     "exception": false,
     "start_time": "2023-12-12T21:20:49.197060",
     "status": "completed"
    },
    "tags": []
   },
   "outputs": [],
   "source": [
    "image_ids = np.arange(1, len(predicted_classes) + 1)"
   ]
  },
  {
   "cell_type": "code",
   "execution_count": 26,
   "id": "6623d1a2",
   "metadata": {
    "execution": {
     "iopub.execute_input": "2023-12-12T21:20:49.421209Z",
     "iopub.status.busy": "2023-12-12T21:20:49.420678Z",
     "iopub.status.idle": "2023-12-12T21:20:49.425671Z",
     "shell.execute_reply": "2023-12-12T21:20:49.424791Z"
    },
    "papermill": {
     "duration": 0.078511,
     "end_time": "2023-12-12T21:20:49.427583",
     "exception": false,
     "start_time": "2023-12-12T21:20:49.349072",
     "status": "completed"
    },
    "tags": []
   },
   "outputs": [],
   "source": [
    "df_submission = pd.DataFrame({\n",
    "    'ImageId': image_ids,\n",
    "    'Label': predicted_classes\n",
    "})"
   ]
  },
  {
   "cell_type": "code",
   "execution_count": 27,
   "id": "d7964ab5",
   "metadata": {
    "execution": {
     "iopub.execute_input": "2023-12-12T21:20:49.571448Z",
     "iopub.status.busy": "2023-12-12T21:20:49.570735Z",
     "iopub.status.idle": "2023-12-12T21:20:49.630754Z",
     "shell.execute_reply": "2023-12-12T21:20:49.629824Z"
    },
    "papermill": {
     "duration": 0.133946,
     "end_time": "2023-12-12T21:20:49.632792",
     "exception": false,
     "start_time": "2023-12-12T21:20:49.498846",
     "status": "completed"
    },
    "tags": []
   },
   "outputs": [],
   "source": [
    "df_submission.to_csv('submission6.csv', index=False)"
   ]
  }
 ],
 "metadata": {
  "kaggle": {
   "accelerator": "gpu",
   "dataSources": [
    {
     "databundleVersionId": 861823,
     "sourceId": 3004,
     "sourceType": "competition"
    },
    {
     "datasetId": 708136,
     "sourceId": 1338830,
     "sourceType": "datasetVersion"
    }
   ],
   "dockerImageVersionId": 30559,
   "isGpuEnabled": true,
   "isInternetEnabled": true,
   "language": "python",
   "sourceType": "notebook"
  },
  "kernelspec": {
   "display_name": "Python 3",
   "language": "python",
   "name": "python3"
  },
  "language_info": {
   "codemirror_mode": {
    "name": "ipython",
    "version": 3
   },
   "file_extension": ".py",
   "mimetype": "text/x-python",
   "name": "python",
   "nbconvert_exporter": "python",
   "pygments_lexer": "ipython3",
   "version": "3.10.12"
  },
  "papermill": {
   "default_parameters": {},
   "duration": 88.53079,
   "end_time": "2023-12-12T21:20:53.125661",
   "environment_variables": {},
   "exception": null,
   "input_path": "__notebook__.ipynb",
   "output_path": "__notebook__.ipynb",
   "parameters": {},
   "start_time": "2023-12-12T21:19:24.594871",
   "version": "2.4.0"
  }
 },
 "nbformat": 4,
 "nbformat_minor": 5
}
